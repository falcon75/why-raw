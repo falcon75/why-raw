{
 "cells": [
  {
   "cell_type": "code",
   "execution_count": null,
   "metadata": {},
   "outputs": [],
   "source": [
    "import numpy as np\n",
    "import matplotlib.pyplot as plt"
   ]
  },
  {
   "cell_type": "code",
   "execution_count": null,
   "metadata": {},
   "outputs": [],
   "source": [
    "S, N = 2, 20\n",
    "Q = 2\n",
    "X, Y = np.meshgrid(np.linspace(-S, S, N), np.linspace(-S, S, N))\n",
    "fig, ax = plt.figure(figsize=(10, 16)), [None]*3\n",
    "# set subplot to 3d projection\n",
    "ax[0] = fig.add_subplot(131, projection='3d')\n",
    "ax[1] = fig.add_subplot(132, projection='3d')\n",
    "ax[2] = fig.add_subplot(133, projection='3d')\n",
    "\n",
    "for k, Q in enumerate([1, 5, 20]):\n",
    "    Z = (((np.exp(-(X**2 + Y**2)) * 100) // Q) * Q) / 100\n",
    "    for i in range(N):\n",
    "        for j in range(N):\n",
    "            ax[k].bar3d(i, j, 0, 1, 1, Z[i, j], color='b', alpha=0.5)\n",
    "\n",
    "plt.savefig('figures/sampling.png', dpi=300, bbox_inches='tight')\n",
    "plt.show()"
   ]
  }
 ],
 "metadata": {
  "kernelspec": {
   "display_name": "Python 3",
   "language": "python",
   "name": "python3"
  },
  "language_info": {
   "codemirror_mode": {
    "name": "ipython",
    "version": 3
   },
   "file_extension": ".py",
   "mimetype": "text/x-python",
   "name": "python",
   "nbconvert_exporter": "python",
   "pygments_lexer": "ipython3",
   "version": "3.11.4"
  }
 },
 "nbformat": 4,
 "nbformat_minor": 2
}
